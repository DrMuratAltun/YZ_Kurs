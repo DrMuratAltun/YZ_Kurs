{
 "cells": [
  {
   "cell_type": "code",
   "execution_count": 1,
   "metadata": {},
   "outputs": [
    {
     "name": "stderr",
     "output_type": "stream",
     "text": [
      "[nltk_data] Downloading package punkt to\n",
      "[nltk_data]     C:\\Users\\vizyon\\AppData\\Roaming\\nltk_data...\n",
      "[nltk_data]   Package punkt is already up-to-date!\n"
     ]
    },
    {
     "data": {
      "text/plain": [
       "True"
      ]
     },
     "execution_count": 1,
     "metadata": {},
     "output_type": "execute_result"
    }
   ],
   "source": [
    "import numpy as np \n",
    "import pandas as pd \n",
    "import nltk\n",
    " \n",
    "from sklearn.metrics import confusion_matrix\n",
    "from sklearn.model_selection import GridSearchCV\n",
    "\n",
    "from sklearn.model_selection import train_test_split\n",
    "from sklearn.feature_extraction.text import TfidfVectorizer\n",
    "from sklearn.model_selection import cross_val_score,cross_validate\n",
    "from sklearn.metrics import make_scorer, accuracy_score, f1_score, precision_score, recall_score\n",
    "from nltk.tokenize import word_tokenize\n",
    "nltk.download('punkt')"
   ]
  },
  {
   "cell_type": "markdown",
   "metadata": {},
   "source": [
    "Türkçe Twitter verileriyle duygu analiz nasıl yapılır? Bu çalışmada tamamen bizim tarafımızdan elde edilen 4202 adet ileti etiketlenerek analiz edilecektir. Duygu ifadeleri metnin anlamından oluşturulmuştur. Buna göre, nötr ifadeler 0 ile, negatifler 1 ile ve pozitifler 2 ile etiketlenmiştir. Veri dosyamızı çağıralım ve inceleyelim."
   ]
  },
  {
   "cell_type": "code",
   "execution_count": 2,
   "metadata": {},
   "outputs": [
    {
     "data": {
      "text/html": [
       "<div>\n",
       "<style scoped>\n",
       "    .dataframe tbody tr th:only-of-type {\n",
       "        vertical-align: middle;\n",
       "    }\n",
       "\n",
       "    .dataframe tbody tr th {\n",
       "        vertical-align: top;\n",
       "    }\n",
       "\n",
       "    .dataframe thead th {\n",
       "        text-align: right;\n",
       "    }\n",
       "</style>\n",
       "<table border=\"1\" class=\"dataframe\">\n",
       "  <thead>\n",
       "    <tr style=\"text-align: right;\">\n",
       "      <th></th>\n",
       "      <th>Tweets</th>\n",
       "      <th>Duygu</th>\n",
       "    </tr>\n",
       "  </thead>\n",
       "  <tbody>\n",
       "    <tr>\n",
       "      <th>0</th>\n",
       "      <td>sayın cumhurbaşkanım turizm için ertelendiğin...</td>\n",
       "      <td>1</td>\n",
       "    </tr>\n",
       "    <tr>\n",
       "      <th>1</th>\n",
       "      <td>bir kere ya bir kere gencinizi dinleyin biz y...</td>\n",
       "      <td>1</td>\n",
       "    </tr>\n",
       "    <tr>\n",
       "      <th>2</th>\n",
       "      <td>o kadar çok mağduruz ki neye üzüleceğime şaşır...</td>\n",
       "      <td>1</td>\n",
       "    </tr>\n",
       "    <tr>\n",
       "      <th>3</th>\n",
       "      <td>bu sınav tarihini değiştirirken pedaloglara v...</td>\n",
       "      <td>1</td>\n",
       "    </tr>\n",
       "    <tr>\n",
       "      <th>4</th>\n",
       "      <td>turizm yılı gençlik geleceğinizi kurtarır</td>\n",
       "      <td>2</td>\n",
       "    </tr>\n",
       "  </tbody>\n",
       "</table>\n",
       "</div>"
      ],
      "text/plain": [
       "                                              Tweets  Duygu\n",
       "0   sayın cumhurbaşkanım turizm için ertelendiğin...      1\n",
       "1   bir kere ya bir kere gencinizi dinleyin biz y...      1\n",
       "2  o kadar çok mağduruz ki neye üzüleceğime şaşır...      1\n",
       "3   bu sınav tarihini değiştirirken pedaloglara v...      1\n",
       "4         turizm yılı gençlik geleceğinizi kurtarır       2"
      ]
     },
     "execution_count": 2,
     "metadata": {},
     "output_type": "execute_result"
    }
   ],
   "source": [
    "data=pd.read_excel('duygu.xlsx')  \n",
    "data.head()"
   ]
  },
  {
   "cell_type": "markdown",
   "metadata": {},
   "source": [
    "Verimizdeki kategorilerin kaç adet olduğunu şu şekilde bulabiliriz."
   ]
  },
  {
   "cell_type": "code",
   "execution_count": 22,
   "metadata": {},
   "outputs": [
    {
     "data": {
      "text/plain": [
       "1    1572\n",
       "2    1472\n",
       "0    1158\n",
       "Name: Duygu, dtype: int64"
      ]
     },
     "execution_count": 22,
     "metadata": {},
     "output_type": "execute_result"
    }
   ],
   "source": [
    "data['Duygu'].value_counts()"
   ]
  },
  {
   "cell_type": "markdown",
   "metadata": {},
   "source": [
    "Buna göre verimizin 1158 adedi  nötr, 1572 negatif ve  1472 pozitif olarak etiketlenmiştir."
   ]
  },
  {
   "cell_type": "markdown",
   "metadata": {},
   "source": [
    "Uygulamaya geçmeden önce verinin analize hazır hale getirilmesi büyük önem arz eder. Bu sürece veri ön işleme (Data Preprocessing) denir. Bunun için şu adımlar kullanılır.\n",
    "Uygulamada çok olsa da kendimizin oluşturduğu durak kelimeleri(ama, ve, ile, hiç vb...) dosyasını açıp 'stop' adlı dosyaya atalım."
   ]
  },
  {
   "cell_type": "code",
   "execution_count": 3,
   "metadata": {},
   "outputs": [],
   "source": [
    "with open(\"StopWordTurkce.txt\", \"r\") as dosya:\n",
    "    stop = dosya.read() "
   ]
  },
  {
   "cell_type": "markdown",
   "metadata": {},
   "source": [
    "şimdi verimizdeki gereksiz kelimeleri atmak için bir fonksiyon yazalım "
   ]
  },
  {
   "cell_type": "code",
   "execution_count": 4,
   "metadata": {},
   "outputs": [],
   "source": [
    "def text_preprocess(text):\n",
    "    \n",
    "    text = [word for word in text.split() if word not in stop]\n",
    "    return \" \".join(text)"
   ]
  },
  {
   "cell_type": "markdown",
   "metadata": {},
   "source": [
    "bu fonksiyonu verimizdeki metin (Tweet) sütununa uygulayıp yeni bir sütun oluşturup farklara bakalım."
   ]
  },
  {
   "cell_type": "code",
   "execution_count": 5,
   "metadata": {},
   "outputs": [],
   "source": [
    "data['stop'] = data['Tweets'].apply(text_preprocess)"
   ]
  },
  {
   "cell_type": "code",
   "execution_count": 6,
   "metadata": {},
   "outputs": [
    {
     "data": {
      "text/html": [
       "<div>\n",
       "<style scoped>\n",
       "    .dataframe tbody tr th:only-of-type {\n",
       "        vertical-align: middle;\n",
       "    }\n",
       "\n",
       "    .dataframe tbody tr th {\n",
       "        vertical-align: top;\n",
       "    }\n",
       "\n",
       "    .dataframe thead th {\n",
       "        text-align: right;\n",
       "    }\n",
       "</style>\n",
       "<table border=\"1\" class=\"dataframe\">\n",
       "  <thead>\n",
       "    <tr style=\"text-align: right;\">\n",
       "      <th></th>\n",
       "      <th>Tweets</th>\n",
       "      <th>Duygu</th>\n",
       "      <th>stop</th>\n",
       "    </tr>\n",
       "  </thead>\n",
       "  <tbody>\n",
       "    <tr>\n",
       "      <th>0</th>\n",
       "      <td>sayın cumhurbaşkanım turizm için ertelendiğin...</td>\n",
       "      <td>1</td>\n",
       "      <td>sayın cumhurbaşkanım turizm ertelendiğini bili...</td>\n",
       "    </tr>\n",
       "    <tr>\n",
       "      <th>1</th>\n",
       "      <td>bir kere ya bir kere gencinizi dinleyin biz y...</td>\n",
       "      <td>1</td>\n",
       "      <td>gencinizi dinleyin yanlış demiyoruz doğrusunu ...</td>\n",
       "    </tr>\n",
       "    <tr>\n",
       "      <th>2</th>\n",
       "      <td>o kadar çok mağduruz ki neye üzüleceğime şaşır...</td>\n",
       "      <td>1</td>\n",
       "      <td>mağduruz üzüleceğime şaşırdım yerden destek al...</td>\n",
       "    </tr>\n",
       "    <tr>\n",
       "      <th>3</th>\n",
       "      <td>bu sınav tarihini değiştirirken pedaloglara v...</td>\n",
       "      <td>1</td>\n",
       "      <td>sınav tarihini değiştirirken pedaloglara psiko...</td>\n",
       "    </tr>\n",
       "    <tr>\n",
       "      <th>4</th>\n",
       "      <td>turizm yılı gençlik geleceğinizi kurtarır</td>\n",
       "      <td>2</td>\n",
       "      <td>turizm yılı gençlik geleceğinizi kurtarır</td>\n",
       "    </tr>\n",
       "    <tr>\n",
       "      <th>5</th>\n",
       "      <td>sizden kıyak isteyen yok turizm yüzünden yedi...</td>\n",
       "      <td>1</td>\n",
       "      <td>kıyak isteyen turizm yediğiniz hakkımızı geri ...</td>\n",
       "    </tr>\n",
       "    <tr>\n",
       "      <th>6</th>\n",
       "      <td>bunu söylemek bile üzüyor ama turizm bu kadar...</td>\n",
       "      <td>1</td>\n",
       "      <td>söylemek üzüyor turizm değerliyse sınavı ağust...</td>\n",
       "    </tr>\n",
       "    <tr>\n",
       "      <th>7</th>\n",
       "      <td>mayıs ı gençlere armağan eden ulu önder musta...</td>\n",
       "      <td>1</td>\n",
       "      <td>mayıs gençlere armağan ulu önder mustafa kemal...</td>\n",
       "    </tr>\n",
       "    <tr>\n",
       "      <th>8</th>\n",
       "      <td>turizm mi önemli ülkenin geleceği olan bizler...</td>\n",
       "      <td>1</td>\n",
       "      <td>turizm önemli ülkenin geleceği bizler</td>\n",
       "    </tr>\n",
       "    <tr>\n",
       "      <th>9</th>\n",
       "      <td>erteleyin son iftarlarimizi rahat yapalım sağ...</td>\n",
       "      <td>1</td>\n",
       "      <td>erteleyin iftarlarimizi rahat yapalım sağlık b...</td>\n",
       "    </tr>\n",
       "  </tbody>\n",
       "</table>\n",
       "</div>"
      ],
      "text/plain": [
       "                                              Tweets  Duygu  \\\n",
       "0   sayın cumhurbaşkanım turizm için ertelendiğin...      1   \n",
       "1   bir kere ya bir kere gencinizi dinleyin biz y...      1   \n",
       "2  o kadar çok mağduruz ki neye üzüleceğime şaşır...      1   \n",
       "3   bu sınav tarihini değiştirirken pedaloglara v...      1   \n",
       "4         turizm yılı gençlik geleceğinizi kurtarır       2   \n",
       "5   sizden kıyak isteyen yok turizm yüzünden yedi...      1   \n",
       "6   bunu söylemek bile üzüyor ama turizm bu kadar...      1   \n",
       "7   mayıs ı gençlere armağan eden ulu önder musta...      1   \n",
       "8   turizm mi önemli ülkenin geleceği olan bizler...      1   \n",
       "9   erteleyin son iftarlarimizi rahat yapalım sağ...      1   \n",
       "\n",
       "                                                stop  \n",
       "0  sayın cumhurbaşkanım turizm ertelendiğini bili...  \n",
       "1  gencinizi dinleyin yanlış demiyoruz doğrusunu ...  \n",
       "2  mağduruz üzüleceğime şaşırdım yerden destek al...  \n",
       "3  sınav tarihini değiştirirken pedaloglara psiko...  \n",
       "4          turizm yılı gençlik geleceğinizi kurtarır  \n",
       "5  kıyak isteyen turizm yediğiniz hakkımızı geri ...  \n",
       "6  söylemek üzüyor turizm değerliyse sınavı ağust...  \n",
       "7  mayıs gençlere armağan ulu önder mustafa kemal...  \n",
       "8              turizm önemli ülkenin geleceği bizler  \n",
       "9  erteleyin iftarlarimizi rahat yapalım sağlık b...  "
      ]
     },
     "execution_count": 6,
     "metadata": {},
     "output_type": "execute_result"
    }
   ],
   "source": [
    "data.head(10)"
   ]
  },
  {
   "cell_type": "markdown",
   "metadata": {},
   "source": [
    "yukarıda da görüldüğü gibi bir anlam ifade etmeyen kelime gruplarından kurtulduk. Böylece vektör uzayının hacmi büyük bir yükten kurtuldu.\n",
    "\n",
    "yinede tam bir yapılandırma için bir adım kaldı. o da kelimeleri çekim ve yapım ekleri nedeniyle oluşan varyosyonlardan kurtararak (sevmek=sevilmek,sevgi,sevinç vb...  ) köke ayrıma ya da diğer adıyla Steeming işlemine tabii tutmamız gerekecek. Maalesef İngilizce için başarılı çalışmaların olduğu kütüphaneler mevcutken Türkçe için en değerli çalışma TurkishStemmer ya da Zemberek kütüphaneleridir. Onlar da çok başarılı olmasa da mevcut şartlarda yeterli sayılabilir. \n",
    "\n"
   ]
  },
  {
   "cell_type": "code",
   "execution_count": 7,
   "metadata": {},
   "outputs": [],
   "source": [
    "from TurkishStemmer import TurkishStemmer\n",
    "\n",
    "kokbul = TurkishStemmer()"
   ]
  },
  {
   "cell_type": "markdown",
   "metadata": {},
   "source": [
    "yine burada tüm kelimeleri köküne indirgemeyi sağlayacak bir fonksiyon yazıp, bunuda 'stop' sütununa uyguladığımızda boyut indirgeme sağlanacaktır"
   ]
  },
  {
   "cell_type": "code",
   "execution_count": 8,
   "metadata": {},
   "outputs": [],
   "source": [
    "def stemming(text):\n",
    "    words=word_tokenize(text)\n",
    "    stems=[]\n",
    "\n",
    "    for w in words:\n",
    "        stems.append(kokbul.stem(w))\n",
    "        \n",
    "    return ' '.join(stems)\n",
    "\n"
   ]
  },
  {
   "cell_type": "code",
   "execution_count": 9,
   "metadata": {},
   "outputs": [],
   "source": [
    "data['stemm'] = data['stop'].apply(stemming)"
   ]
  },
  {
   "cell_type": "code",
   "execution_count": 10,
   "metadata": {},
   "outputs": [
    {
     "data": {
      "text/html": [
       "<div>\n",
       "<style scoped>\n",
       "    .dataframe tbody tr th:only-of-type {\n",
       "        vertical-align: middle;\n",
       "    }\n",
       "\n",
       "    .dataframe tbody tr th {\n",
       "        vertical-align: top;\n",
       "    }\n",
       "\n",
       "    .dataframe thead th {\n",
       "        text-align: right;\n",
       "    }\n",
       "</style>\n",
       "<table border=\"1\" class=\"dataframe\">\n",
       "  <thead>\n",
       "    <tr style=\"text-align: right;\">\n",
       "      <th></th>\n",
       "      <th>Tweets</th>\n",
       "      <th>Duygu</th>\n",
       "      <th>stop</th>\n",
       "      <th>stemm</th>\n",
       "    </tr>\n",
       "  </thead>\n",
       "  <tbody>\n",
       "    <tr>\n",
       "      <th>0</th>\n",
       "      <td>sayın cumhurbaşkanım turizm için ertelendiğin...</td>\n",
       "      <td>1</td>\n",
       "      <td>sayın cumhurbaşkanım turizm ertelendiğini bili...</td>\n",
       "      <td>say cumhurbaşkan turizm ertelendik biliyor uyg...</td>\n",
       "    </tr>\n",
       "    <tr>\n",
       "      <th>1</th>\n",
       "      <td>bir kere ya bir kere gencinizi dinleyin biz y...</td>\n",
       "      <td>1</td>\n",
       "      <td>gencinizi dinleyin yanlış demiyoruz doğrusunu ...</td>\n",
       "      <td>genç dinley yanlış demiyor doğru söylüyor</td>\n",
       "    </tr>\n",
       "    <tr>\n",
       "      <th>2</th>\n",
       "      <td>o kadar çok mağduruz ki neye üzüleceğime şaşır...</td>\n",
       "      <td>1</td>\n",
       "      <td>mağduruz üzüleceğime şaşırdım yerden destek al...</td>\n",
       "      <td>mağdur üzülecek şaşır yer destek alamıyor yasa...</td>\n",
       "    </tr>\n",
       "    <tr>\n",
       "      <th>3</th>\n",
       "      <td>bu sınav tarihini değiştirirken pedaloglara v...</td>\n",
       "      <td>1</td>\n",
       "      <td>sınav tarihini değiştirirken pedaloglara psiko...</td>\n",
       "      <td>sınav tarih değiştirir pedalog psikolog danışı...</td>\n",
       "    </tr>\n",
       "    <tr>\n",
       "      <th>4</th>\n",
       "      <td>turizm yılı gençlik geleceğinizi kurtarır</td>\n",
       "      <td>2</td>\n",
       "      <td>turizm yılı gençlik geleceğinizi kurtarır</td>\n",
       "      <td>turizm yıl gençlik gelecek kurtarır</td>\n",
       "    </tr>\n",
       "  </tbody>\n",
       "</table>\n",
       "</div>"
      ],
      "text/plain": [
       "                                              Tweets  Duygu  \\\n",
       "0   sayın cumhurbaşkanım turizm için ertelendiğin...      1   \n",
       "1   bir kere ya bir kere gencinizi dinleyin biz y...      1   \n",
       "2  o kadar çok mağduruz ki neye üzüleceğime şaşır...      1   \n",
       "3   bu sınav tarihini değiştirirken pedaloglara v...      1   \n",
       "4         turizm yılı gençlik geleceğinizi kurtarır       2   \n",
       "\n",
       "                                                stop  \\\n",
       "0  sayın cumhurbaşkanım turizm ertelendiğini bili...   \n",
       "1  gencinizi dinleyin yanlış demiyoruz doğrusunu ...   \n",
       "2  mağduruz üzüleceğime şaşırdım yerden destek al...   \n",
       "3  sınav tarihini değiştirirken pedaloglara psiko...   \n",
       "4          turizm yılı gençlik geleceğinizi kurtarır   \n",
       "\n",
       "                                               stemm  \n",
       "0  say cumhurbaşkan turizm ertelendik biliyor uyg...  \n",
       "1          genç dinley yanlış demiyor doğru söylüyor  \n",
       "2  mağdur üzülecek şaşır yer destek alamıyor yasa...  \n",
       "3  sınav tarih değiştirir pedalog psikolog danışı...  \n",
       "4                turizm yıl gençlik gelecek kurtarır  "
      ]
     },
     "execution_count": 10,
     "metadata": {},
     "output_type": "execute_result"
    }
   ],
   "source": [
    "data.head()"
   ]
  },
  {
   "cell_type": "markdown",
   "metadata": {},
   "source": [
    "görüldüğü gibi yağmasa da gürledi. En azından bu alanda ne kadar önemli bir boşluğun olduğunu görmüş olduk"
   ]
  },
  {
   "cell_type": "markdown",
   "metadata": {},
   "source": [
    "Artık ham veriyi belirli bir ön işlemeden geçirerek analize hazır hale getirdik, şimdi verimizi bağımlı ve bağımsız değişkenlere ayırarak süreci başlatalım"
   ]
  },
  {
   "cell_type": "code",
   "execution_count": 11,
   "metadata": {},
   "outputs": [],
   "source": [
    "x = data['stemm']\n",
    "y = data['Duygu']"
   ]
  },
  {
   "cell_type": "markdown",
   "metadata": {},
   "source": [
    "bu adımda ise verimizi test ve eğitim seti olarak ikiye ayıracğız. "
   ]
  },
  {
   "cell_type": "code",
   "execution_count": 12,
   "metadata": {},
   "outputs": [],
   "source": [
    "from sklearn.model_selection import train_test_split\n",
    "x_train, x_test, y_train, y_test = train_test_split(x,y,test_size=0.2, random_state = 42)"
   ]
  },
  {
   "cell_type": "markdown",
   "metadata": {},
   "source": [
    "Burada kelimeleri algoritmanın anlayacağı dile çevirmek yani asyısallaştırmak için en çok kullanılan yöntemlerden biri olan TF-IDF (Term Frequency - Inverse Document Frequency ) terim ağırlıklandırma yöntemini kullanacağız. TF-TDF, verideki bir kelimenin frekansını, o kelimeyi içeren toplam doküman sayısı ve tüm dokümanların sayısına dayalı olarak hesaplayan  ağırlıklandırma yöntemidir. Böylece verideki önemsiz değerler elenerek önemli öznitelikler tespit edilir ve sınıflandırma işlemi sırasında performans artışı sağlanır."
   ]
  },
  {
   "cell_type": "code",
   "execution_count": 13,
   "metadata": {},
   "outputs": [],
   "source": [
    "from sklearn.feature_extraction.text import TfidfVectorizer"
   ]
  },
  {
   "cell_type": "markdown",
   "metadata": {},
   "source": [
    "Artık gerek test gerekse da eğitim setindeki bağımsız değişken olan 'x'in içindeki metinleri sayısallaştırabiliriz "
   ]
  },
  {
   "cell_type": "code",
   "execution_count": 14,
   "metadata": {},
   "outputs": [],
   "source": [
    "vectorizer = TfidfVectorizer()\n",
    "\n",
    "vectorizer.fit(x_train)\n",
    "training_features = vectorizer.transform(x_train)    \n",
    "test_features = vectorizer.transform(x_test)\n"
   ]
  },
  {
   "cell_type": "markdown",
   "metadata": {},
   "source": [
    "boyutu çok büyük olan Vektör uzay modelimiz analize hazır sınıflacısını beklemektedir. şimdi Destek Vektör Makineleri (Support Vector Machine) algoritmasının çağıralım"
   ]
  },
  {
   "cell_type": "code",
   "execution_count": 15,
   "metadata": {},
   "outputs": [],
   "source": [
    "from sklearn.svm import SVC\n",
    "# Destek Vektör Makineleri (Support Vector Machine) algoritmasının birçok hiper parametresi vardır.\n",
    "# bunu araştırmacı manuel olarak belirlediği gibi parametreleri liste halinde sunarak ''GridSearchCV\" arama ızgarasında\n",
    "#eğitim verisi doğruluk skoruna göre tespit edebilir.\n",
    "parametreler = {'C': [1, 10, 100, 1000], 'kernel': ['linear','rbf'],\n",
    "              'gamma': [0.1, 0.2, 0.3, 0.4, 0.5, 0.6, 0.7, 0.8, 0.9]\n",
    "}\n",
    "# hiper parametrelerin  doğruluk skorlarını oluştur\n",
    "acc_scorer = make_scorer(accuracy_score)\n",
    "# her parametrenin doğrulluk skorunu tek tek hesaplayan \"GridSearchCV\" ızgarasını oluştur. \n",
    "#bunun için egitim verisine 10 kez çapraz geçerlilik sınaması yap\n",
    "grid_obj = GridSearchCV(SVC(), parametreler, cv=10, scoring=acc_scorer)\n",
    "grid_obj = grid_obj.fit(training_features, y_train)\n",
    "# bulunan en iyi parametre kümesini modele ata ve modeli oluştur.\n",
    "model = grid_obj.best_estimator_\n",
    "\n"
   ]
  },
  {
   "cell_type": "code",
   "execution_count": 16,
   "metadata": {},
   "outputs": [
    {
     "data": {
      "text/plain": [
       "0.6447485867301398"
      ]
     },
     "execution_count": 16,
     "metadata": {},
     "output_type": "execute_result"
    }
   ],
   "source": [
    "accuracy = grid_obj.best_score_    # En iyi modelin doğruluğu hesaplanır.\n",
    "accuracy"
   ]
  },
  {
   "cell_type": "markdown",
   "metadata": {},
   "source": [
    "en iyi parametreleri bulunan modelin doğruluk oranı bulundu. artık eğitim verisini bu modele göre işleyebilriz "
   ]
  },
  {
   "cell_type": "code",
   "execution_count": 17,
   "metadata": {},
   "outputs": [
    {
     "data": {
      "text/plain": [
       "SVC(C=10, cache_size=200, class_weight=None, coef0=0.0,\n",
       "    decision_function_shape='ovr', degree=3, gamma=0.8, kernel='rbf',\n",
       "    max_iter=-1, probability=False, random_state=None, shrinking=True,\n",
       "    tol=0.001, verbose=False)"
      ]
     },
     "execution_count": 17,
     "metadata": {},
     "output_type": "execute_result"
    }
   ],
   "source": [
    "model.fit(training_features, y_train) # aşağıda, oluşturduğumuz modelin hiper parametreleri gösterilmektedir"
   ]
  },
  {
   "cell_type": "markdown",
   "metadata": {},
   "source": [
    "Şimdi de test verisindeki x değişkenini kullanarak model üzerinden y değişkenini tahmin edelim.\n",
    "ardından modelin bulduğu tahmini veri(y-pred )ile gerçek test (y-test) verisi arasındaki benzerlik oranını bulacağız"
   ]
  },
  {
   "cell_type": "code",
   "execution_count": 18,
   "metadata": {},
   "outputs": [],
   "source": [
    "y_pred = model.predict(test_features)"
   ]
  },
  {
   "cell_type": "code",
   "execution_count": 19,
   "metadata": {},
   "outputs": [
    {
     "name": "stdout",
     "output_type": "stream",
     "text": [
      "Accuracy_score on the dataset:0.64\n"
     ]
    }
   ],
   "source": [
    "print(\"Accuracy_score on the dataset:{:.2f}\".format(accuracy_score(y_test, y_pred)))"
   ]
  },
  {
   "cell_type": "markdown",
   "metadata": {},
   "source": [
    "görüldüğü gibi modelimizin test verilerini tahmin güçü çok istinilen seviye de olmasada idare eder. bu oranı büyütmek için birçok düzenleme yapılabalinir. örneğin veri sayısını arttırmak bunların en önemlisidir.\n",
    "\n",
    "şimdi modelimizin atadığı kategoriyle test verisinin (gerçek) kategorileri arsasındaki  doğru ve yanlış eşleştirmeleri ortaya koyacak olan karşılaştırma matrisini inceleyelim."
   ]
  },
  {
   "cell_type": "code",
   "execution_count": 23,
   "metadata": {},
   "outputs": [
    {
     "data": {
      "text/plain": [
       "Text(89.18, 0.5, 'predicted label')"
      ]
     },
     "execution_count": 23,
     "metadata": {},
     "output_type": "execute_result"
    },
    {
     "data": {
      "image/png": "[encoded data removed]",
      "text/plain": [
       "<Figure size 432x288 with 1 Axes>"
      ]
     },
     "metadata": {},
     "output_type": "display_data"
    }
   ],
   "source": [
    "from sklearn.metrics import confusion_matrix\n",
    "import numpy as np\n",
    "import matplotlib.pyplot as plt\n",
    "import seaborn as sns; sns.set()\n",
    "mat = confusion_matrix(y_test, y_pred)\n",
    "sns.heatmap(mat.T, square=True, annot=True, fmt='d', cbar=False\n",
    "            )\n",
    "plt.xlabel('true label')\n",
    "plt.ylabel('predicted label')"
   ]
  },
  {
   "cell_type": "markdown",
   "metadata": {},
   "source": [
    "Confusion matrixin köşegenleri üzerindeki sayılar doğrueşlemeyi, diğer sayılar yanlış eşlemeyi gösterir. İdeal bir modelde matrisin diagonel olması istenir. yani köşegen dışındaki sayıların sıfır olması mükemmel modelleme olduğuna işarettir. Buna göre nötr ifadelerin 113'ü, negatiflerin 228'i ve pozitiflerin 197'si doğru atanmıştır. modelin tahmin gücü % 64 olarak bulundu.  "
   ]
  },
  {
   "cell_type": "code",
   "execution_count": null,
   "metadata": {},
   "outputs": [],
   "source": []
  }
 ],
 "metadata": {
  "kernelspec": {
   "display_name": "Python 3",
   "language": "python",
   "name": "python3"
  },
  "language_info": {
   "codemirror_mode": {
    "name": "ipython",
    "version": 3
   },
   "file_extension": ".py",
   "mimetype": "text/x-python",
   "name": "python",
   "nbconvert_exporter": "python",
   "pygments_lexer": "ipython3",
   "version": "3.8.5"
  }
 },
 "nbformat": 4,
 "nbformat_minor": 2
}
